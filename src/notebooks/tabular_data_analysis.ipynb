{
  "cells": [
    {
      "cell_type": "code",
      "execution_count": null,
      "id": "setup",
      "metadata": {},
      "outputs": [],
      "source": [
        "import os\n",
        "import sys\n",
        "\n",
        "# Add project root to Python path\n",
        "project_root = os.path.abspath(os.path.join(os.path.dirname(\"__file__\"), \"../..\"))\n",
        "if project_root not in sys.path:\n",
        "    sys.path.append(project_root)\n",
        "\n",
        "# Enable autoreload to automatically reload modules when they change\n",
        "%load_ext autoreload\n",
        "%autoreload 2"
      ]
    },
    {
      "cell_type": "code",
      "execution_count": null,
      "id": "cb5716c1",
      "metadata": {},
      "outputs": [],
      "source": [
        "from src.data import download_dataset\n",
        "\n",
        "paths = download_dataset()\n",
        "\n",
        "paths"
      ]
    },
    {
      "cell_type": "code",
      "execution_count": null,
      "id": "46531f32",
      "metadata": {},
      "outputs": [],
      "source": [
        "import pandas as pd\n",
        "\n",
        "tabular_data = pd.read_csv(paths.clinical_data)\n",
        "tabular_data.head()"
      ]
    },
    {
      "cell_type": "code",
      "execution_count": null,
      "id": "8d3f4237",
      "metadata": {},
      "outputs": [],
      "source": [
        "train_list_data = pd.read_csv(paths.train_val_list)\n",
        "train_list_data.head()"
      ]
    },
    {
      "cell_type": "code",
      "execution_count": null,
      "id": "4bcc1207",
      "metadata": {},
      "outputs": [],
      "source": [
        "train_list_data.shape"
      ]
    },
    {
      "cell_type": "code",
      "execution_count": null,
      "id": "6686dfb3",
      "metadata": {},
      "outputs": [],
      "source": [
        "test_list_data = pd.read_csv(paths.test_list)\n",
        "test_list_data.head()"
      ]
    },
    {
      "cell_type": "code",
      "execution_count": null,
      "id": "0054d501",
      "metadata": {},
      "outputs": [],
      "source": [
        "test_list_data.shape"
      ]
    },
    {
      "cell_type": "code",
      "execution_count": null,
      "id": "8e03f430",
      "metadata": {},
      "outputs": [],
      "source": [
        "tabular_train_val_data = tabular_data[tabular_data['Image Index'].isin(train_list_data.iloc[:, 0])]\n",
        "tabular_test_data = tabular_data[tabular_data['Image Index'].isin(test_list_data.iloc[:, 0])]"
      ]
    },
    {
      "cell_type": "code",
      "execution_count": null,
      "id": "e96a4534",
      "metadata": {},
      "outputs": [],
      "source": [
        "tabular_train_val_data.head()"
      ]
    },
    {
      "cell_type": "code",
      "execution_count": null,
      "id": "77832a25",
      "metadata": {},
      "outputs": [],
      "source": [
        "tabular_train_val_data.shape"
      ]
    },
    {
      "cell_type": "code",
      "execution_count": null,
      "id": "88347651",
      "metadata": {},
      "outputs": [],
      "source": [
        "tabular_test_data.head()"
      ]
    },
    {
      "cell_type": "code",
      "execution_count": null,
      "id": "705622d6",
      "metadata": {},
      "outputs": [],
      "source": [
        "tabular_test_data.shape"
      ]
    },
    {
      "cell_type": "code",
      "execution_count": null,
      "id": "d635739a",
      "metadata": {},
      "outputs": [],
      "source": [
        "train_list_data.shape[0] == tabular_train_val_data.shape[0]"
      ]
    },
    {
      "cell_type": "code",
      "execution_count": null,
      "id": "bb7cf282",
      "metadata": {},
      "outputs": [],
      "source": [
        "test_list_data.shape[0] == tabular_test_data.shape[0]"
      ]
    },
    {
      "cell_type": "code",
      "execution_count": null,
      "id": "b09b7683",
      "metadata": {},
      "outputs": [],
      "source": [
        "tabular_data['Finding Labels'].value_counts()"
      ]
    },
    {
      "cell_type": "code",
      "execution_count": null,
      "id": "bf98e22a",
      "metadata": {},
      "outputs": [],
      "source": [
        "tmp = tabular_data[\"Finding Labels\"].str.split(\"|\", expand=True).stack().unique()\n",
        "sorted([dx.lower() for dx in tmp])"
      ]
    },
    {
      "cell_type": "code",
      "execution_count": null,
      "id": "22171f5b",
      "metadata": {},
      "outputs": [],
      "source": [
        "from src.utils import generate_image_labels\n",
        "\n",
        "for label in tabular_data['Finding Labels'][:20].tolist():\n",
        "    print(label)\n",
        "    labels = generate_image_labels(finding_labels=label)\n",
        "    print(labels)"
      ]
    },
    {
      "cell_type": "code",
      "execution_count": null,
      "id": "3f2a95f0",
      "metadata": {},
      "outputs": [],
      "source": [
        "# Adjust pandas display options\n",
        "pd.set_option('display.max_rows', None)  # Show all rows\n",
        "pd.set_option('display.max_columns', None)  # Show all columns\n",
        "\n",
        "# Display the value counts sorted by index\n",
        "tmp = tabular_data[\"Patient Age\"].value_counts()\n",
        "print(tmp.sort_index())\n"
      ]
    },
    {
      "cell_type": "code",
      "execution_count": null,
      "id": "5d9402af",
      "metadata": {},
      "outputs": [],
      "source": [
        "from src.utils import convert_agestr_to_years\n",
        "\n",
        "# Convert the age strings to years\n",
        "tmp = tabular_data[\"Patient Age\"].apply(convert_agestr_to_years)\n",
        "# Display the updated DataFrame\n",
        "tmp.unique()"
      ]
    },
    {
      "cell_type": "code",
      "execution_count": null,
      "id": "5b00f854",
      "metadata": {},
      "outputs": [],
      "source": [
        "from src.utils import create_working_tabular_df\n",
        "\n",
        "processed_training_df = create_working_tabular_df(df=tabular_train_val_data)\n",
        "processed_training_df.head()"
      ]
    },
    {
      "cell_type": "code",
      "execution_count": null,
      "id": "4f0c8b6d",
      "metadata": {},
      "outputs": [],
      "source": [
        "processed_test_df = create_working_tabular_df(df=tabular_test_data)\n",
        "processed_test_df.head()"
      ]
    }
  ],
  "metadata": {
    "kernelspec": {
      "display_name": "cs7643-project",
      "language": "python",
      "name": "python3"
    },
    "language_info": {
      "codemirror_mode": {
        "name": "ipython",
        "version": 3
      },
      "file_extension": ".py",
      "mimetype": "text/x-python",
      "name": "python",
      "nbconvert_exporter": "python",
      "pygments_lexer": "ipython3",
      "version": "3.12.9"
    }
  },
  "nbformat": 4,
  "nbformat_minor": 5
}
